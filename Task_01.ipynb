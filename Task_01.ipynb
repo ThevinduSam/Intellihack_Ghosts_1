{
  "nbformat": 4,
  "nbformat_minor": 0,
  "metadata": {
    "colab": {
      "provenance": []
    },
    "kernelspec": {
      "name": "python3",
      "display_name": "Python 3"
    },
    "language_info": {
      "name": "python"
    }
  },
  "cells": [
    {
      "cell_type": "code",
      "execution_count": 40,
      "metadata": {
        "id": "yPQzk6jo_fEj"
      },
      "outputs": [],
      "source": [
        "# Import necessary libraries\n",
        "import pandas as pd\n",
        "from sklearn.model_selection import train_test_split\n",
        "from sklearn.tree import DecisionTreeClassifier\n",
        "from sklearn.metrics import accuracy_score\n",
        "from google.colab import files\n",
        "import io\n",
        "import numpy as np\n",
        "import matplotlib.pyplot as plt\n"
      ]
    },
    {
      "cell_type": "code",
      "source": [
        "uploaded = files.upload()\n",
        "\n",
        "# Print the keys of the uploaded dictionary\n",
        "print(uploaded.keys())\n",
        "\n",
        "# Load the dataset\n",
        "data = pd.read_csv(io.BytesIO(uploaded['Crop_Dataset.csv']))"
      ],
      "metadata": {
        "colab": {
          "base_uri": "https://localhost:8080/",
          "height": 90
        },
        "id": "ZdrSFOJRNpBP",
        "outputId": "aa27303c-76b2-400f-8faa-1033c3d321d2"
      },
      "execution_count": 23,
      "outputs": [
        {
          "output_type": "display_data",
          "data": {
            "text/plain": [
              "<IPython.core.display.HTML object>"
            ],
            "text/html": [
              "\n",
              "     <input type=\"file\" id=\"files-bbd707bc-9f4d-420e-a566-91abd5c7d92f\" name=\"files[]\" multiple disabled\n",
              "        style=\"border:none\" />\n",
              "     <output id=\"result-bbd707bc-9f4d-420e-a566-91abd5c7d92f\">\n",
              "      Upload widget is only available when the cell has been executed in the\n",
              "      current browser session. Please rerun this cell to enable.\n",
              "      </output>\n",
              "      <script>// Copyright 2017 Google LLC\n",
              "//\n",
              "// Licensed under the Apache License, Version 2.0 (the \"License\");\n",
              "// you may not use this file except in compliance with the License.\n",
              "// You may obtain a copy of the License at\n",
              "//\n",
              "//      http://www.apache.org/licenses/LICENSE-2.0\n",
              "//\n",
              "// Unless required by applicable law or agreed to in writing, software\n",
              "// distributed under the License is distributed on an \"AS IS\" BASIS,\n",
              "// WITHOUT WARRANTIES OR CONDITIONS OF ANY KIND, either express or implied.\n",
              "// See the License for the specific language governing permissions and\n",
              "// limitations under the License.\n",
              "\n",
              "/**\n",
              " * @fileoverview Helpers for google.colab Python module.\n",
              " */\n",
              "(function(scope) {\n",
              "function span(text, styleAttributes = {}) {\n",
              "  const element = document.createElement('span');\n",
              "  element.textContent = text;\n",
              "  for (const key of Object.keys(styleAttributes)) {\n",
              "    element.style[key] = styleAttributes[key];\n",
              "  }\n",
              "  return element;\n",
              "}\n",
              "\n",
              "// Max number of bytes which will be uploaded at a time.\n",
              "const MAX_PAYLOAD_SIZE = 100 * 1024;\n",
              "\n",
              "function _uploadFiles(inputId, outputId) {\n",
              "  const steps = uploadFilesStep(inputId, outputId);\n",
              "  const outputElement = document.getElementById(outputId);\n",
              "  // Cache steps on the outputElement to make it available for the next call\n",
              "  // to uploadFilesContinue from Python.\n",
              "  outputElement.steps = steps;\n",
              "\n",
              "  return _uploadFilesContinue(outputId);\n",
              "}\n",
              "\n",
              "// This is roughly an async generator (not supported in the browser yet),\n",
              "// where there are multiple asynchronous steps and the Python side is going\n",
              "// to poll for completion of each step.\n",
              "// This uses a Promise to block the python side on completion of each step,\n",
              "// then passes the result of the previous step as the input to the next step.\n",
              "function _uploadFilesContinue(outputId) {\n",
              "  const outputElement = document.getElementById(outputId);\n",
              "  const steps = outputElement.steps;\n",
              "\n",
              "  const next = steps.next(outputElement.lastPromiseValue);\n",
              "  return Promise.resolve(next.value.promise).then((value) => {\n",
              "    // Cache the last promise value to make it available to the next\n",
              "    // step of the generator.\n",
              "    outputElement.lastPromiseValue = value;\n",
              "    return next.value.response;\n",
              "  });\n",
              "}\n",
              "\n",
              "/**\n",
              " * Generator function which is called between each async step of the upload\n",
              " * process.\n",
              " * @param {string} inputId Element ID of the input file picker element.\n",
              " * @param {string} outputId Element ID of the output display.\n",
              " * @return {!Iterable<!Object>} Iterable of next steps.\n",
              " */\n",
              "function* uploadFilesStep(inputId, outputId) {\n",
              "  const inputElement = document.getElementById(inputId);\n",
              "  inputElement.disabled = false;\n",
              "\n",
              "  const outputElement = document.getElementById(outputId);\n",
              "  outputElement.innerHTML = '';\n",
              "\n",
              "  const pickedPromise = new Promise((resolve) => {\n",
              "    inputElement.addEventListener('change', (e) => {\n",
              "      resolve(e.target.files);\n",
              "    });\n",
              "  });\n",
              "\n",
              "  const cancel = document.createElement('button');\n",
              "  inputElement.parentElement.appendChild(cancel);\n",
              "  cancel.textContent = 'Cancel upload';\n",
              "  const cancelPromise = new Promise((resolve) => {\n",
              "    cancel.onclick = () => {\n",
              "      resolve(null);\n",
              "    };\n",
              "  });\n",
              "\n",
              "  // Wait for the user to pick the files.\n",
              "  const files = yield {\n",
              "    promise: Promise.race([pickedPromise, cancelPromise]),\n",
              "    response: {\n",
              "      action: 'starting',\n",
              "    }\n",
              "  };\n",
              "\n",
              "  cancel.remove();\n",
              "\n",
              "  // Disable the input element since further picks are not allowed.\n",
              "  inputElement.disabled = true;\n",
              "\n",
              "  if (!files) {\n",
              "    return {\n",
              "      response: {\n",
              "        action: 'complete',\n",
              "      }\n",
              "    };\n",
              "  }\n",
              "\n",
              "  for (const file of files) {\n",
              "    const li = document.createElement('li');\n",
              "    li.append(span(file.name, {fontWeight: 'bold'}));\n",
              "    li.append(span(\n",
              "        `(${file.type || 'n/a'}) - ${file.size} bytes, ` +\n",
              "        `last modified: ${\n",
              "            file.lastModifiedDate ? file.lastModifiedDate.toLocaleDateString() :\n",
              "                                    'n/a'} - `));\n",
              "    const percent = span('0% done');\n",
              "    li.appendChild(percent);\n",
              "\n",
              "    outputElement.appendChild(li);\n",
              "\n",
              "    const fileDataPromise = new Promise((resolve) => {\n",
              "      const reader = new FileReader();\n",
              "      reader.onload = (e) => {\n",
              "        resolve(e.target.result);\n",
              "      };\n",
              "      reader.readAsArrayBuffer(file);\n",
              "    });\n",
              "    // Wait for the data to be ready.\n",
              "    let fileData = yield {\n",
              "      promise: fileDataPromise,\n",
              "      response: {\n",
              "        action: 'continue',\n",
              "      }\n",
              "    };\n",
              "\n",
              "    // Use a chunked sending to avoid message size limits. See b/62115660.\n",
              "    let position = 0;\n",
              "    do {\n",
              "      const length = Math.min(fileData.byteLength - position, MAX_PAYLOAD_SIZE);\n",
              "      const chunk = new Uint8Array(fileData, position, length);\n",
              "      position += length;\n",
              "\n",
              "      const base64 = btoa(String.fromCharCode.apply(null, chunk));\n",
              "      yield {\n",
              "        response: {\n",
              "          action: 'append',\n",
              "          file: file.name,\n",
              "          data: base64,\n",
              "        },\n",
              "      };\n",
              "\n",
              "      let percentDone = fileData.byteLength === 0 ?\n",
              "          100 :\n",
              "          Math.round((position / fileData.byteLength) * 100);\n",
              "      percent.textContent = `${percentDone}% done`;\n",
              "\n",
              "    } while (position < fileData.byteLength);\n",
              "  }\n",
              "\n",
              "  // All done.\n",
              "  yield {\n",
              "    response: {\n",
              "      action: 'complete',\n",
              "    }\n",
              "  };\n",
              "}\n",
              "\n",
              "scope.google = scope.google || {};\n",
              "scope.google.colab = scope.google.colab || {};\n",
              "scope.google.colab._files = {\n",
              "  _uploadFiles,\n",
              "  _uploadFilesContinue,\n",
              "};\n",
              "})(self);\n",
              "</script> "
            ]
          },
          "metadata": {}
        },
        {
          "output_type": "stream",
          "name": "stdout",
          "text": [
            "Saving Crop_Dataset.csv to Crop_Dataset.csv\n",
            "dict_keys(['Crop_Dataset.csv'])\n"
          ]
        }
      ]
    },
    {
      "cell_type": "code",
      "source": [
        "# Split the dataset into features (X) and target variable (y)\n",
        "X = data.drop('Label_Encoded', axis=1)\n",
        "X = X.drop('Label', axis=1)\n",
        "y = data['Label_Encoded']\n",
        "\n",
        "# Split the data into training and testing sets\n",
        "X_train, X_test, y_train, y_test = train_test_split(X, y, test_size=0.2, random_state=42)"
      ],
      "metadata": {
        "id": "Hk7rQUv2NzMn"
      },
      "execution_count": 41,
      "outputs": []
    },
    {
      "cell_type": "code",
      "source": [
        "# Initialize the Decision Tree model\n",
        "clf = DecisionTreeClassifier()\n",
        "\n",
        "# Train the model on the training data\n",
        "clf.fit(X_train, y_train)\n",
        "\n",
        "# Make predictions on the testing data\n",
        "y_pred = clf.predict(X_test)"
      ],
      "metadata": {
        "id": "Vl5ReWf1N9fg"
      },
      "execution_count": 42,
      "outputs": []
    },
    {
      "cell_type": "code",
      "source": [
        "# Calculate the accuracy of the model\n",
        "accuracy = accuracy_score(y_test, y_pred)\n",
        "print(f'Accuracy of Decision Tree model: {accuracy}')\n",
        "y_test = np.array(y_test)\n",
        "print(y_pred)\n",
        "print(y_test)"
      ],
      "metadata": {
        "colab": {
          "base_uri": "https://localhost:8080/"
        },
        "id": "jNDypjn9OCdI",
        "outputId": "5b877c23-0e70-4876-8bb6-f3cde8b71c50"
      },
      "execution_count": 45,
      "outputs": [
        {
          "output_type": "stream",
          "name": "stdout",
          "text": [
            "Accuracy of Decision Tree model: 0.9772727272727273\n",
            "[14 13 17 17 15 11 15  5  6  8  7 18  9 20 18  9 15  1 17 14 21 17 16 17\n",
            "  2 20  6 16  4  0  9  5 20  8 20  7 20  2  2  3 17 11  7  1  6  1  4 18\n",
            " 14  1  7 21 12  6 21  3 19 15 10  7 13 18  8 16 17  4 16  0 14  4 14 18\n",
            " 20 10  7 17 10  6 13 16 21  2  0  5 16 11 21  5  7  9  1  5 19 17  4  5\n",
            "  3 21  5  8 18  0 16 14 13  3 13 10  4  5 10 20 19  9  4  2  1 18  9  0\n",
            "  4 12  7 18  2  7 18  1 10  5 20  3  9  2 18 16  4 10 10 15  3 14  6  7\n",
            " 18 16 15 18  3  5  6  8 13  6  4  4  4  3  1 20  2 15 16 19  0 18 12  8\n",
            " 13 12 12  7  9  2 18  1  8 12 13 20 21 21  3 20  5  3 10  3 18 17 17  6\n",
            " 11  9 13  3  1 15  7  2 12 12 10 19  0  9  6 10 20  6  1  2  2  2 15  0\n",
            "  3 17 21  7  3 11 11 18 17 15  2  9  2 14 15 14 14 11 11 19 18  9  0 14\n",
            " 21 17  5  1 11 14  4  6 21 12 18 19  4  0 15  9 21  2 19 20 11 10 17 15\n",
            "  2  0  4  5  6 20  9 12  5 20  1 18  1  2 10 20 18 20 11 14 15 10  4  7\n",
            " 16  2 13 10 15  2 21  4 16 15 18 17 13  5 17  2  9  2 17  8 15  9  2 11\n",
            "  2  9 13  3  6 14 13  3 14 11 20  7  2 10  7  4 17  4  6 18 19 12 15  8\n",
            " 10 20 15  9 15  6 14 21 21  4 20  3 10  1 20  1  4 11  3  9 13  7  1  0\n",
            "  5  3 11 19 17  5 19  6 16  0  7  6 21 10  4 17 15  9  1 11 18 15  8 20\n",
            "  5  8 18  7 20  6 19 13 15 12 18 12 13  0 11 11 21  9 10 12 20 16 19 11\n",
            " 17 14  5 20  2  5  9 13  5 19 17 13  8  0 18  5  5  1  0 19 18 16  9  3\n",
            " 13  6  7  0  0 19 19  4]\n",
            "[14 13 17 17 15 11 15  5  6  8  7 18  9 20 18  9 15  1 17 14 21 17 16 17\n",
            "  2 20  6 16  4  0  9  5 20  8 20  7 20  2  2  3 17 11  7  1  6  1  4 18\n",
            " 14  1  7 21 12  6 21  3 19 15 10  7 13 18  8 16 17  4 16  0 14  4 14 18\n",
            " 20 10  7 17 10 19 13 16 21  2  0  5 16 11 21  5  7  9  1  5 19 17  4  5\n",
            "  3 21  7  8 18  0 16 14 13  3 13 10  4  5 10 20 19  9  4  2  1 18  9  0\n",
            "  4 12  7 18  2  7 18  1 10  5 10  3  9  2 18 16  4 10 10 15  3 14  6  5\n",
            " 18  1 15 18  3  5  6  8 13  6  4  4  4  3  1 20  2 15 16 19  0 18 12  8\n",
            " 13 12 12  7  9  2 18  1  8 12 13 20 21 21  3 20  5  3 10  3 18 17 17  6\n",
            " 11  9 13  3  1 15  7  2 12 12 10 19  0  9  6 10 20  6  1  2  2  2 15  0\n",
            "  3 17 21  7  3 11 11 18 17 15  2  9  2 14 15 14 14 11 11 19 18  9  0 14\n",
            " 21 17  5  1 11 14  4  6 21 12 18 19  4  0 15  9 21  2 19 20 11 10 17 15\n",
            "  2  0  4  5  6 20  9 12  5 20  1 18  1  2 10  0 18 20 11 14 15 10  4  7\n",
            " 16  2 13 10 15  2 21  4 16 15 18 17 13  5 17  2  9  2 17  8 15  9  2 11\n",
            "  2  9 13  3  6 14 13  3 14 11  0  7  2 10  7  4 17  4  6 18 19 12 15  8\n",
            " 10 20 15  9 15  6 14 21 21  4 20  3 10  1 20  1  4 11  3  9 13  7  1  0\n",
            "  5  3 11 19 17  5 19  6 16 20  7  6 21 10  4 17 15  9  1 11 18 15  8 20\n",
            "  5  8 18  7 20  6 19 13 15 12 18 12 13  0 11 11 21  9 10 12 20 16 19 11\n",
            " 17 14  5 20  2  5  9 13  5 19 17 13  5  0 18  5  5  1  0  1 18 16  9  3\n",
            " 13  6  7  0  0 19 19  4]\n"
          ]
        }
      ]
    },
    {
      "cell_type": "code",
      "source": [
        "plt.figure(figsize=(10, 6))\n",
        "plt.scatter(range(len(y_test)), y_test, label='test', color='blue', alpha=0.7)\n",
        "plt.scatter(range(len(y_pred)), y_pred, label='predicted', color='red', alpha=0.5)\n",
        "plt.grid()\n",
        "plt.legend()\n",
        "plt.title('Dicision tree')\n",
        "plt.xlabel('n')\n",
        "plt.ylabel('crop')\n",
        "plt.show()"
      ],
      "metadata": {
        "colab": {
          "base_uri": "https://localhost:8080/",
          "height": 564
        },
        "id": "wP7K3qdwRXmP",
        "outputId": "2141516b-e639-4ce5-ac40-418dc8eb4455"
      },
      "execution_count": 66,
      "outputs": [
        {
          "output_type": "display_data",
          "data": {
            "text/plain": [
              "<Figure size 1000x600 with 1 Axes>"
            ],
            "image/png": "[encoded data removed]"
          },
          "metadata": {}
        }
      ]
    },
    {
      "cell_type": "code",
      "source": [
        "# Save the trained model as a joblib file\n",
        "import joblib\n",
        "joblib.dump(clf, 'decision_tree_model.joblib')"
      ],
      "metadata": {
        "colab": {
          "base_uri": "https://localhost:8080/"
        },
        "id": "LCVqftm2OHEP",
        "outputId": "4690999c-aaa2-44a1-ea6d-feffc45889b5"
      },
      "execution_count": 57,
      "outputs": [
        {
          "output_type": "execute_result",
          "data": {
            "text/plain": [
              "['decision_tree_model.joblib']"
            ]
          },
          "metadata": {},
          "execution_count": 57
        }
      ]
    }
  ]
}